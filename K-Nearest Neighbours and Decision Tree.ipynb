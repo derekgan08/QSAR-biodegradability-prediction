{
 "cells": [
  {
   "cell_type": "markdown",
   "metadata": {
    "id": "oI2fVTvPwDfG"
   },
   "source": [
    "**Importing libraries** "
   ]
  },
  {
   "cell_type": "code",
   "execution_count": 1,
   "metadata": {
    "id": "QV4lwZFEcFsM"
   },
   "outputs": [],
   "source": [
    "#import important library\n",
    "import numpy as np\n",
    "import pandas as pd\n",
    "\n",
    "import io #Importing input module\n",
    "\n",
    "from sklearn.model_selection import train_test_split\n",
    "from sklearn import linear_model  # Importing linear model\n",
    "\n",
    "import matplotlib.pyplot as plt\n",
    "import matplotlib.patches as mpatches\n",
    "\n",
    "\n",
    "#import model library\n",
    "from sklearn.neighbors import KNeighborsClassifier\n",
    "from sklearn.tree import DecisionTreeClassifier\n",
    "from sklearn.model_selection import cross_val_score\n",
    "from sklearn.metrics import accuracy_score, confusion_matrix, classification_report"
   ]
  },
  {
   "cell_type": "markdown",
   "metadata": {
    "id": "1Zq4N6OPwmX0"
   },
   "source": [
    "**Importing data**"
   ]
  },
  {
   "cell_type": "code",
   "execution_count": 3,
   "metadata": {
    "colab": {
     "base_uri": "https://localhost:8080/",
     "height": 767,
     "resources": {
      "http://localhost:8080/nbextensions/google.colab/files.js": {
       "data": "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",
       "headers": [
        [
         "content-type",
         "application/javascript"
        ]
       ],
       "ok": true,
       "status": 200,
       "status_text": ""
      }
     }
    },
    "id": "CgPEFXe4c6Kl",
    "outputId": "6c98c2fc-3c60-432e-99d4-9750ffdcc0f9"
   },
   "outputs": [
    {
     "data": {
      "text/html": [
       "<div>\n",
       "<style scoped>\n",
       "    .dataframe tbody tr th:only-of-type {\n",
       "        vertical-align: middle;\n",
       "    }\n",
       "\n",
       "    .dataframe tbody tr th {\n",
       "        vertical-align: top;\n",
       "    }\n",
       "\n",
       "    .dataframe thead th {\n",
       "        text-align: right;\n",
       "    }\n",
       "</style>\n",
       "<table border=\"1\" class=\"dataframe\">\n",
       "  <thead>\n",
       "    <tr style=\"text-align: right;\">\n",
       "      <th></th>\n",
       "      <th>SpMax_L</th>\n",
       "      <th>J_Dz(e)</th>\n",
       "      <th>nHM</th>\n",
       "      <th>F01[N-N]</th>\n",
       "      <th>F04[C-N]</th>\n",
       "      <th>NssssC</th>\n",
       "      <th>nCb-</th>\n",
       "      <th>C%</th>\n",
       "      <th>nCp</th>\n",
       "      <th>nO</th>\n",
       "      <th>...</th>\n",
       "      <th>C-026</th>\n",
       "      <th>F02[C-N]</th>\n",
       "      <th>nHDon</th>\n",
       "      <th>SpMax_B(m)</th>\n",
       "      <th>Psi_i_A</th>\n",
       "      <th>nN</th>\n",
       "      <th>SM6_B(m)</th>\n",
       "      <th>nArCOOR</th>\n",
       "      <th>nX</th>\n",
       "      <th>experimental_class</th>\n",
       "    </tr>\n",
       "  </thead>\n",
       "  <tbody>\n",
       "    <tr>\n",
       "      <th>0</th>\n",
       "      <td>3.919</td>\n",
       "      <td>2.6909</td>\n",
       "      <td>0</td>\n",
       "      <td>0</td>\n",
       "      <td>0</td>\n",
       "      <td>0</td>\n",
       "      <td>0</td>\n",
       "      <td>31.4</td>\n",
       "      <td>2</td>\n",
       "      <td>0</td>\n",
       "      <td>...</td>\n",
       "      <td>0</td>\n",
       "      <td>0</td>\n",
       "      <td>0</td>\n",
       "      <td>2.949</td>\n",
       "      <td>1.591</td>\n",
       "      <td>0</td>\n",
       "      <td>7.253</td>\n",
       "      <td>0</td>\n",
       "      <td>0</td>\n",
       "      <td>RB</td>\n",
       "    </tr>\n",
       "    <tr>\n",
       "      <th>1</th>\n",
       "      <td>4.170</td>\n",
       "      <td>2.1144</td>\n",
       "      <td>0</td>\n",
       "      <td>0</td>\n",
       "      <td>0</td>\n",
       "      <td>0</td>\n",
       "      <td>0</td>\n",
       "      <td>30.8</td>\n",
       "      <td>1</td>\n",
       "      <td>1</td>\n",
       "      <td>...</td>\n",
       "      <td>0</td>\n",
       "      <td>0</td>\n",
       "      <td>0</td>\n",
       "      <td>3.315</td>\n",
       "      <td>1.967</td>\n",
       "      <td>0</td>\n",
       "      <td>7.257</td>\n",
       "      <td>0</td>\n",
       "      <td>0</td>\n",
       "      <td>RB</td>\n",
       "    </tr>\n",
       "    <tr>\n",
       "      <th>2</th>\n",
       "      <td>3.932</td>\n",
       "      <td>3.2512</td>\n",
       "      <td>0</td>\n",
       "      <td>0</td>\n",
       "      <td>0</td>\n",
       "      <td>0</td>\n",
       "      <td>0</td>\n",
       "      <td>26.7</td>\n",
       "      <td>2</td>\n",
       "      <td>4</td>\n",
       "      <td>...</td>\n",
       "      <td>0</td>\n",
       "      <td>0</td>\n",
       "      <td>1</td>\n",
       "      <td>3.076</td>\n",
       "      <td>2.417</td>\n",
       "      <td>0</td>\n",
       "      <td>7.601</td>\n",
       "      <td>0</td>\n",
       "      <td>0</td>\n",
       "      <td>RB</td>\n",
       "    </tr>\n",
       "    <tr>\n",
       "      <th>3</th>\n",
       "      <td>3.000</td>\n",
       "      <td>2.7098</td>\n",
       "      <td>0</td>\n",
       "      <td>0</td>\n",
       "      <td>0</td>\n",
       "      <td>0</td>\n",
       "      <td>0</td>\n",
       "      <td>20.0</td>\n",
       "      <td>0</td>\n",
       "      <td>2</td>\n",
       "      <td>...</td>\n",
       "      <td>0</td>\n",
       "      <td>0</td>\n",
       "      <td>1</td>\n",
       "      <td>3.046</td>\n",
       "      <td>5.000</td>\n",
       "      <td>0</td>\n",
       "      <td>6.690</td>\n",
       "      <td>0</td>\n",
       "      <td>0</td>\n",
       "      <td>RB</td>\n",
       "    </tr>\n",
       "    <tr>\n",
       "      <th>4</th>\n",
       "      <td>4.236</td>\n",
       "      <td>3.3944</td>\n",
       "      <td>0</td>\n",
       "      <td>0</td>\n",
       "      <td>0</td>\n",
       "      <td>0</td>\n",
       "      <td>0</td>\n",
       "      <td>29.4</td>\n",
       "      <td>2</td>\n",
       "      <td>4</td>\n",
       "      <td>...</td>\n",
       "      <td>0</td>\n",
       "      <td>0</td>\n",
       "      <td>0</td>\n",
       "      <td>3.351</td>\n",
       "      <td>2.405</td>\n",
       "      <td>0</td>\n",
       "      <td>8.003</td>\n",
       "      <td>0</td>\n",
       "      <td>0</td>\n",
       "      <td>RB</td>\n",
       "    </tr>\n",
       "    <tr>\n",
       "      <th>...</th>\n",
       "      <td>...</td>\n",
       "      <td>...</td>\n",
       "      <td>...</td>\n",
       "      <td>...</td>\n",
       "      <td>...</td>\n",
       "      <td>...</td>\n",
       "      <td>...</td>\n",
       "      <td>...</td>\n",
       "      <td>...</td>\n",
       "      <td>...</td>\n",
       "      <td>...</td>\n",
       "      <td>...</td>\n",
       "      <td>...</td>\n",
       "      <td>...</td>\n",
       "      <td>...</td>\n",
       "      <td>...</td>\n",
       "      <td>...</td>\n",
       "      <td>...</td>\n",
       "      <td>...</td>\n",
       "      <td>...</td>\n",
       "      <td>...</td>\n",
       "    </tr>\n",
       "    <tr>\n",
       "      <th>1050</th>\n",
       "      <td>5.431</td>\n",
       "      <td>2.8955</td>\n",
       "      <td>0</td>\n",
       "      <td>0</td>\n",
       "      <td>0</td>\n",
       "      <td>2</td>\n",
       "      <td>0</td>\n",
       "      <td>32.1</td>\n",
       "      <td>4</td>\n",
       "      <td>1</td>\n",
       "      <td>...</td>\n",
       "      <td>0</td>\n",
       "      <td>6</td>\n",
       "      <td>1</td>\n",
       "      <td>3.573</td>\n",
       "      <td>2.242</td>\n",
       "      <td>1</td>\n",
       "      <td>8.088</td>\n",
       "      <td>0</td>\n",
       "      <td>0</td>\n",
       "      <td>NRB</td>\n",
       "    </tr>\n",
       "    <tr>\n",
       "      <th>1051</th>\n",
       "      <td>5.287</td>\n",
       "      <td>3.3732</td>\n",
       "      <td>0</td>\n",
       "      <td>0</td>\n",
       "      <td>9</td>\n",
       "      <td>0</td>\n",
       "      <td>0</td>\n",
       "      <td>35.3</td>\n",
       "      <td>0</td>\n",
       "      <td>9</td>\n",
       "      <td>...</td>\n",
       "      <td>0</td>\n",
       "      <td>3</td>\n",
       "      <td>0</td>\n",
       "      <td>3.787</td>\n",
       "      <td>3.083</td>\n",
       "      <td>3</td>\n",
       "      <td>9.278</td>\n",
       "      <td>0</td>\n",
       "      <td>0</td>\n",
       "      <td>NRB</td>\n",
       "    </tr>\n",
       "    <tr>\n",
       "      <th>1052</th>\n",
       "      <td>4.869</td>\n",
       "      <td>1.7670</td>\n",
       "      <td>0</td>\n",
       "      <td>1</td>\n",
       "      <td>9</td>\n",
       "      <td>0</td>\n",
       "      <td>5</td>\n",
       "      <td>44.4</td>\n",
       "      <td>0</td>\n",
       "      <td>4</td>\n",
       "      <td>...</td>\n",
       "      <td>4</td>\n",
       "      <td>13</td>\n",
       "      <td>0</td>\n",
       "      <td>3.848</td>\n",
       "      <td>2.576</td>\n",
       "      <td>5</td>\n",
       "      <td>9.537</td>\n",
       "      <td>1</td>\n",
       "      <td>0</td>\n",
       "      <td>NRB</td>\n",
       "    </tr>\n",
       "    <tr>\n",
       "      <th>1053</th>\n",
       "      <td>5.158</td>\n",
       "      <td>1.6914</td>\n",
       "      <td>2</td>\n",
       "      <td>0</td>\n",
       "      <td>36</td>\n",
       "      <td>0</td>\n",
       "      <td>9</td>\n",
       "      <td>56.1</td>\n",
       "      <td>0</td>\n",
       "      <td>0</td>\n",
       "      <td>...</td>\n",
       "      <td>1</td>\n",
       "      <td>16</td>\n",
       "      <td>0</td>\n",
       "      <td>5.808</td>\n",
       "      <td>2.055</td>\n",
       "      <td>8</td>\n",
       "      <td>11.055</td>\n",
       "      <td>0</td>\n",
       "      <td>1</td>\n",
       "      <td>NRB</td>\n",
       "    </tr>\n",
       "    <tr>\n",
       "      <th>1054</th>\n",
       "      <td>5.076</td>\n",
       "      <td>2.6588</td>\n",
       "      <td>2</td>\n",
       "      <td>0</td>\n",
       "      <td>0</td>\n",
       "      <td>0</td>\n",
       "      <td>4</td>\n",
       "      <td>54.5</td>\n",
       "      <td>0</td>\n",
       "      <td>0</td>\n",
       "      <td>...</td>\n",
       "      <td>2</td>\n",
       "      <td>0</td>\n",
       "      <td>0</td>\n",
       "      <td>4.009</td>\n",
       "      <td>2.206</td>\n",
       "      <td>0</td>\n",
       "      <td>9.130</td>\n",
       "      <td>0</td>\n",
       "      <td>2</td>\n",
       "      <td>NRB</td>\n",
       "    </tr>\n",
       "  </tbody>\n",
       "</table>\n",
       "<p>1055 rows × 42 columns</p>\n",
       "</div>"
      ],
      "text/plain": [
       "      SpMax_L  J_Dz(e)  nHM  F01[N-N]  F04[C-N]  NssssC  nCb-    C%  nCp  nO  \\\n",
       "0       3.919   2.6909    0         0         0       0     0  31.4    2   0   \n",
       "1       4.170   2.1144    0         0         0       0     0  30.8    1   1   \n",
       "2       3.932   3.2512    0         0         0       0     0  26.7    2   4   \n",
       "3       3.000   2.7098    0         0         0       0     0  20.0    0   2   \n",
       "4       4.236   3.3944    0         0         0       0     0  29.4    2   4   \n",
       "...       ...      ...  ...       ...       ...     ...   ...   ...  ...  ..   \n",
       "1050    5.431   2.8955    0         0         0       2     0  32.1    4   1   \n",
       "1051    5.287   3.3732    0         0         9       0     0  35.3    0   9   \n",
       "1052    4.869   1.7670    0         1         9       0     5  44.4    0   4   \n",
       "1053    5.158   1.6914    2         0        36       0     9  56.1    0   0   \n",
       "1054    5.076   2.6588    2         0         0       0     4  54.5    0   0   \n",
       "\n",
       "      ...  C-026  F02[C-N]  nHDon  SpMax_B(m)  Psi_i_A  nN  SM6_B(m)  nArCOOR  \\\n",
       "0     ...      0         0      0       2.949    1.591   0     7.253        0   \n",
       "1     ...      0         0      0       3.315    1.967   0     7.257        0   \n",
       "2     ...      0         0      1       3.076    2.417   0     7.601        0   \n",
       "3     ...      0         0      1       3.046    5.000   0     6.690        0   \n",
       "4     ...      0         0      0       3.351    2.405   0     8.003        0   \n",
       "...   ...    ...       ...    ...         ...      ...  ..       ...      ...   \n",
       "1050  ...      0         6      1       3.573    2.242   1     8.088        0   \n",
       "1051  ...      0         3      0       3.787    3.083   3     9.278        0   \n",
       "1052  ...      4        13      0       3.848    2.576   5     9.537        1   \n",
       "1053  ...      1        16      0       5.808    2.055   8    11.055        0   \n",
       "1054  ...      2         0      0       4.009    2.206   0     9.130        0   \n",
       "\n",
       "      nX  experimental_class  \n",
       "0      0                  RB  \n",
       "1      0                  RB  \n",
       "2      0                  RB  \n",
       "3      0                  RB  \n",
       "4      0                  RB  \n",
       "...   ..                 ...  \n",
       "1050   0                 NRB  \n",
       "1051   0                 NRB  \n",
       "1052   0                 NRB  \n",
       "1053   1                 NRB  \n",
       "1054   2                 NRB  \n",
       "\n",
       "[1055 rows x 42 columns]"
      ]
     },
     "execution_count": 3,
     "metadata": {},
     "output_type": "execute_result"
    }
   ],
   "source": [
    "#import dataset\n",
    "\n",
    "data = pd.read_csv('biodeg.csv',sep=';')\n",
    "data"
   ]
  },
  {
   "cell_type": "markdown",
   "metadata": {
    "id": "xDb_ry0PxEuZ"
   },
   "source": [
    "**Data processing**"
   ]
  },
  {
   "cell_type": "code",
   "execution_count": 4,
   "metadata": {
    "colab": {
     "base_uri": "https://localhost:8080/"
    },
    "id": "TWgd3Z-udKTu",
    "outputId": "aeed4a8d-a092-4139-c7f2-7f6ae56408b5"
   },
   "outputs": [
    {
     "name": "stdout",
     "output_type": "stream",
     "text": [
      "Target variables  :  ['NRB' 'RB']\n"
     ]
    }
   ],
   "source": [
    "#Get binary classification of the response \n",
    "response = np.unique(data['experimental_class'])\n",
    "print('Target variables  : ', response)\n"
   ]
  },
  {
   "cell_type": "code",
   "execution_count": 5,
   "metadata": {
    "id": "EDbz1Xi-dSkG"
   },
   "outputs": [],
   "source": [
    "from sklearn.preprocessing import MinMaxScaler\n",
    "from sklearn.model_selection import train_test_split\n",
    "\n",
    "#Extract features and response into respective y and X variable\n",
    "y = data['experimental_class'].values\n",
    "X = data[data.keys()[:-1]]\n",
    "\n",
    "#Normalize data\n",
    "scaler = MinMaxScaler()\n",
    "X = scaler.fit_transform(X)"
   ]
  },
  {
   "cell_type": "code",
   "execution_count": 6,
   "metadata": {
    "id": "YM-_LwREeWwq"
   },
   "outputs": [],
   "source": [
    "# Import the feature selection library\n",
    "from sklearn.feature_selection import SelectKBest\n",
    "from sklearn.feature_selection import chi2"
   ]
  },
  {
   "cell_type": "code",
   "execution_count": 7,
   "metadata": {
    "colab": {
     "base_uri": "https://localhost:8080/"
    },
    "id": "AUhUKVfxddHC",
    "outputId": "ebdffbf6-7ef7-46e2-8122-c45843d89564"
   },
   "outputs": [
    {
     "name": "stdout",
     "output_type": "stream",
     "text": [
      "Top 10 features selected based on the Chi Square method:\n",
      "--------------------------------------------------------\n",
      "    Features     Score\n",
      "1    J_Dz(e)  0.000139\n",
      "15  F03[C-O]  0.001195\n",
      "27  Psi_i_1d  0.006990\n",
      "11     SdssC  0.156340\n",
      "34     nHDon  0.185663\n",
      "8        nCp  0.387754\n",
      "17        Mi  0.427909\n",
      "29       SdO  0.686679\n",
      "16        Me  0.957503\n",
      "36   Psi_i_A  1.208577\n"
     ]
    }
   ],
   "source": [
    "#apply SelectKBest class to extract top 10 best features\n",
    "#chi square is used as the feature selection method\n",
    "#the lesser score acquired, the stronger the relationship with the response\n",
    "bestfeatures = SelectKBest(score_func=chi2)\n",
    "fit = bestfeatures.fit(X,y)\n",
    "dfscores = pd.DataFrame(fit.scores_)\n",
    "dfcolumns = pd.DataFrame(data.keys()[:-1])\n",
    "\n",
    "featureScores = pd.concat([dfcolumns,dfscores],axis=1)\n",
    "featureScores.columns = ['Features','Score']  #naming the dataframe columns\n",
    "featuresTop = featureScores.nsmallest(10,'Score')\n",
    "\n",
    "X_arr = np.array(featuresTop['Features']) #Assign the best features to an array for later use\n",
    "print (\"Top 10 features selected based on the Chi Square method:\")\n",
    "print (\"--------------------------------------------------------\")\n",
    "print(featuresTop)  #display 10 best features\n"
   ]
  },
  {
   "cell_type": "code",
   "execution_count": 8,
   "metadata": {
    "colab": {
     "base_uri": "https://localhost:8080/"
    },
    "id": "epSGdhvngcyl",
    "outputId": "235698f1-6b18-44ea-cdc6-7e165d6e3256"
   },
   "outputs": [
    {
     "name": "stdout",
     "output_type": "stream",
     "text": [
      "(675, 10)\n",
      "(169, 10)\n",
      "(211, 10)\n"
     ]
    }
   ],
   "source": [
    "#Splitting the dataset into train, test and validation set\n",
    "X = data[X_arr].values\n",
    "seed_num = 10\n",
    "X_train, X_test, y_train, y_test = train_test_split(X, y, test_size=0.2, random_state=seed_num)\n",
    "X_train, X_val, y_train, y_val = train_test_split(X_train, y_train, test_size=0.2, random_state=seed_num)\n",
    "\n",
    "print(X_train.shape)\n",
    "print(X_val.shape)\n",
    "print(X_test.shape)"
   ]
  },
  {
   "cell_type": "markdown",
   "metadata": {
    "id": "F2SjTGGQy2IS"
   },
   "source": [
    "**k-Nearest Neighbour**"
   ]
  },
  {
   "cell_type": "code",
   "execution_count": 9,
   "metadata": {
    "colab": {
     "base_uri": "https://localhost:8080/",
     "height": 300
    },
    "id": "XmAfKSNdMQ3P",
    "outputId": "e30b4eab-9dc1-42d4-9f88-a05f42cb5b96"
   },
   "outputs": [
    {
     "data": {
      "image/png": "[encoded data removed]",
      "text/plain": [
       "<Figure size 432x288 with 1 Axes>"
      ]
     },
     "metadata": {
      "needs_background": "light"
     },
     "output_type": "display_data"
    },
    {
     "name": "stdout",
     "output_type": "stream",
     "text": [
      "Best k score: 0.7751479289940828\n",
      "Best k value: 3\n"
     ]
    }
   ],
   "source": [
    "#find the best k to train the model\n",
    "#implement a validation test\n",
    "scores = []\n",
    "max_score = 0\n",
    "best_k = 0\n",
    "for k in range(1,20):\n",
    "  model_knn = KNeighborsClassifier(n_neighbors=k)\n",
    "  model_knn.fit(X_train, y_train)\n",
    "  score = model_knn.score(X_val, y_val)\n",
    "  if score > max_score:\n",
    "    max_score = score\n",
    "    best_k = k\n",
    "  scores.append(score)\n",
    "plt.plot(np.arange(1,20), scores)\n",
    "plt.xticks(np.arange(1,20))\n",
    "plt.grid()\n",
    "plt.show()\n",
    "print(\"Best k score:\", max(scores))\n",
    "print(\"Best k value:\", best_k)"
   ]
  },
  {
   "cell_type": "code",
   "execution_count": 10,
   "metadata": {
    "colab": {
     "base_uri": "https://localhost:8080/"
    },
    "id": "_F0MHHKaExvU",
    "outputId": "522a8f1f-0f9f-482f-d721-859d8d7f983c"
   },
   "outputs": [
    {
     "name": "stdout",
     "output_type": "stream",
     "text": [
      "Analysis for k-Nearest Neighbors (k value =  3 ):\n",
      "------------------------------------------------\n",
      "\n",
      "Accuracy: 0.7630331753554502\n",
      "\n",
      "              precision    recall  f1-score   support\n",
      "\n",
      "         NRB       0.82      0.84      0.83       147\n",
      "          RB       0.62      0.58      0.60        64\n",
      "\n",
      "    accuracy                           0.76       211\n",
      "   macro avg       0.72      0.71      0.71       211\n",
      "weighted avg       0.76      0.76      0.76       211\n",
      "\n",
      "\n",
      "Confusion Matric:\n",
      "[[124  23]\n",
      " [ 27  37]]\n"
     ]
    }
   ],
   "source": [
    "#model training \n",
    "#using optimized k\n",
    "model_knn = KNeighborsClassifier(n_neighbors=best_k)\n",
    "model_knn.fit(X_train, y_train)\n",
    "y_pred = model_knn.predict(X_test)\n",
    "\n",
    "print(\"Analysis for k-Nearest Neighbors (k value = \", best_k, \"):\")\n",
    "print(\"------------------------------------------------\")\n",
    "\n",
    "print(\"\\nAccuracy: \" + str(accuracy_score(y_test, y_pred)) + \"\\n\") #precision, recall, f1-score\n",
    "\n",
    "print(classification_report(y_test, y_pred))\n",
    "\n",
    "print(\"\\nConfusion Matric:\")\n",
    "print(confusion_matrix(y_test, y_pred))"
   ]
  },
  {
   "cell_type": "code",
   "execution_count": 11,
   "metadata": {
    "id": "I1jA2gYaNV42"
   },
   "outputs": [],
   "source": [
    "#convert the binary classification clasess into numerical values \n",
    "#so that it can be plotted \n",
    "#'RB' is equal to value 1 (true)\n",
    "#'NRB' is equal to value 0 (false)\n",
    "\n",
    "def y_to_numeric(y):\n",
    "  y_test_list = []\n",
    "  for i, value in enumerate(y):\n",
    "    if (value == response[1]):\n",
    "      y_test_list.append(1)\n",
    "    else:\n",
    "      y_test_list.append(0)\n",
    "\n",
    "  return np.array(y_test_list)\n"
   ]
  },
  {
   "cell_type": "code",
   "execution_count": 12,
   "metadata": {
    "colab": {
     "base_uri": "https://localhost:8080/"
    },
    "id": "WKNQbPcb5F0j",
    "outputId": "d9de425e-cb1e-4611-d6b6-d83ae4ae1624"
   },
   "outputs": [
    {
     "data": {
      "text/html": [
       "<style>#sk-container-id-1 {color: black;background-color: white;}#sk-container-id-1 pre{padding: 0;}#sk-container-id-1 div.sk-toggleable {background-color: white;}#sk-container-id-1 label.sk-toggleable__label {cursor: pointer;display: block;width: 100%;margin-bottom: 0;padding: 0.3em;box-sizing: border-box;text-align: center;}#sk-container-id-1 label.sk-toggleable__label-arrow:before {content: \"▸\";float: left;margin-right: 0.25em;color: #696969;}#sk-container-id-1 label.sk-toggleable__label-arrow:hover:before {color: black;}#sk-container-id-1 div.sk-estimator:hover label.sk-toggleable__label-arrow:before {color: black;}#sk-container-id-1 div.sk-toggleable__content {max-height: 0;max-width: 0;overflow: hidden;text-align: left;background-color: #f0f8ff;}#sk-container-id-1 div.sk-toggleable__content pre {margin: 0.2em;color: black;border-radius: 0.25em;background-color: #f0f8ff;}#sk-container-id-1 input.sk-toggleable__control:checked~div.sk-toggleable__content {max-height: 200px;max-width: 100%;overflow: auto;}#sk-container-id-1 input.sk-toggleable__control:checked~label.sk-toggleable__label-arrow:before {content: \"▾\";}#sk-container-id-1 div.sk-estimator input.sk-toggleable__control:checked~label.sk-toggleable__label {background-color: #d4ebff;}#sk-container-id-1 div.sk-label input.sk-toggleable__control:checked~label.sk-toggleable__label {background-color: #d4ebff;}#sk-container-id-1 input.sk-hidden--visually {border: 0;clip: rect(1px 1px 1px 1px);clip: rect(1px, 1px, 1px, 1px);height: 1px;margin: -1px;overflow: hidden;padding: 0;position: absolute;width: 1px;}#sk-container-id-1 div.sk-estimator {font-family: monospace;background-color: #f0f8ff;border: 1px dotted black;border-radius: 0.25em;box-sizing: border-box;margin-bottom: 0.5em;}#sk-container-id-1 div.sk-estimator:hover {background-color: #d4ebff;}#sk-container-id-1 div.sk-parallel-item::after {content: \"\";width: 100%;border-bottom: 1px solid gray;flex-grow: 1;}#sk-container-id-1 div.sk-label:hover label.sk-toggleable__label {background-color: #d4ebff;}#sk-container-id-1 div.sk-serial::before {content: \"\";position: absolute;border-left: 1px solid gray;box-sizing: border-box;top: 0;bottom: 0;left: 50%;z-index: 0;}#sk-container-id-1 div.sk-serial {display: flex;flex-direction: column;align-items: center;background-color: white;padding-right: 0.2em;padding-left: 0.2em;position: relative;}#sk-container-id-1 div.sk-item {position: relative;z-index: 1;}#sk-container-id-1 div.sk-parallel {display: flex;align-items: stretch;justify-content: center;background-color: white;position: relative;}#sk-container-id-1 div.sk-item::before, #sk-container-id-1 div.sk-parallel-item::before {content: \"\";position: absolute;border-left: 1px solid gray;box-sizing: border-box;top: 0;bottom: 0;left: 50%;z-index: -1;}#sk-container-id-1 div.sk-parallel-item {display: flex;flex-direction: column;z-index: 1;position: relative;background-color: white;}#sk-container-id-1 div.sk-parallel-item:first-child::after {align-self: flex-end;width: 50%;}#sk-container-id-1 div.sk-parallel-item:last-child::after {align-self: flex-start;width: 50%;}#sk-container-id-1 div.sk-parallel-item:only-child::after {width: 0;}#sk-container-id-1 div.sk-dashed-wrapped {border: 1px dashed gray;margin: 0 0.4em 0.5em 0.4em;box-sizing: border-box;padding-bottom: 0.4em;background-color: white;}#sk-container-id-1 div.sk-label label {font-family: monospace;font-weight: bold;display: inline-block;line-height: 1.2em;}#sk-container-id-1 div.sk-label-container {text-align: center;}#sk-container-id-1 div.sk-container {/* jupyter's `normalize.less` sets `[hidden] { display: none; }` but bootstrap.min.css set `[hidden] { display: none !important; }` so we also need the `!important` here to be able to override the default hidden behavior on the sphinx rendered scikit-learn.org. See: https://github.com/scikit-learn/scikit-learn/issues/21755 */display: inline-block !important;position: relative;}#sk-container-id-1 div.sk-text-repr-fallback {display: none;}</style><div id=\"sk-container-id-1\" class=\"sk-top-container\"><div class=\"sk-text-repr-fallback\"><pre>KNeighborsClassifier(n_neighbors=3)</pre><b>In a Jupyter environment, please rerun this cell to show the HTML representation or trust the notebook. <br />On GitHub, the HTML representation is unable to render, please try loading this page with nbviewer.org.</b></div><div class=\"sk-container\" hidden><div class=\"sk-item\"><div class=\"sk-estimator sk-toggleable\"><input class=\"sk-toggleable__control sk-hidden--visually\" id=\"sk-estimator-id-1\" type=\"checkbox\" checked><label for=\"sk-estimator-id-1\" class=\"sk-toggleable__label sk-toggleable__label-arrow\">KNeighborsClassifier</label><div class=\"sk-toggleable__content\"><pre>KNeighborsClassifier(n_neighbors=3)</pre></div></div></div></div></div>"
      ],
      "text/plain": [
       "KNeighborsClassifier(n_neighbors=3)"
      ]
     },
     "execution_count": 12,
     "metadata": {},
     "output_type": "execute_result"
    }
   ],
   "source": [
    "#set data size into two features\n",
    "X = data[X_arr[:2]].values\n",
    "seed_num = 10\n",
    "X_train, X_test, y_train, y_test = train_test_split(X, y, test_size=0.2, random_state=seed_num)\n",
    "X_train, X_val, y_train, y_val = train_test_split(X_train, y_train, test_size=0.2, random_state=seed_num)\n",
    "\n",
    "model_knn = KNeighborsClassifier(n_neighbors=best_k)\n",
    "model_knn.fit(X_train, y_train)"
   ]
  },
  {
   "cell_type": "code",
   "execution_count": 14,
   "metadata": {
    "colab": {
     "base_uri": "https://localhost:8080/",
     "height": 503
    },
    "id": "Pv27r0NbDDQm",
    "outputId": "2dd60126-bdc1-422b-8a29-d206d0b9c3ab"
   },
   "outputs": [
    {
     "data": {
      "text/plain": [
       "<matplotlib.legend.Legend at 0x131a63b6fd0>"
      ]
     },
     "execution_count": 14,
     "metadata": {},
     "output_type": "execute_result"
    },
    {
     "data": {
      "image/png": "[encoded data removed]",
      "text/plain": [
       "<Figure size 720x576 with 1 Axes>"
      ]
     },
     "metadata": {
      "needs_background": "light"
     },
     "output_type": "display_data"
    }
   ],
   "source": [
    "#plot graph for visual representation\n",
    "from matplotlib.colors import ListedColormap\n",
    "cmap_regions = ListedColormap(['lightsteelblue', 'bisque', 'limegreen'])\n",
    "cmap_points = ListedColormap(['blue', 'orange', 'green'])\n",
    "offset = 0.05\n",
    "step = 0.02\n",
    "x1_min, x1_max = X_test[:,0].min()-offset, X_test[:,0].max()+offset\n",
    "x2_min, x2_max = X_test[:,1].min()-offset, X_test[:,1].max()+offset\n",
    "xx1, xx2 = np.meshgrid(np.arange(x1_min, x1_max, step), np.arange(x2_min, x2_max, step))\n",
    "Z = model_knn.predict(np.c_[xx1.ravel(),xx2.ravel()])\n",
    "Z = y_to_numeric(Z)\n",
    "Z = Z.reshape(xx1.shape)\n",
    "plt.figure(figsize=(10,8))\n",
    "plt.contourf(xx1, xx2, Z, cmap=cmap_regions)\n",
    "plt.scatter(X_test[:,0], X_test[:,1], c= y_to_numeric(y_test), cmap=cmap_points)\n",
    "\n",
    "leg_a = mpatches.Patch(color='green', label='RB')\n",
    "leg_b = mpatches.Patch(color='blue', label='NRB')\n",
    "plt.legend(handles=[leg_a,leg_b])"
   ]
  },
  {
   "cell_type": "markdown",
   "metadata": {
    "id": "Y3ivmO3D-rmy"
   },
   "source": [
    "**Decision Tree**"
   ]
  },
  {
   "cell_type": "code",
   "execution_count": 15,
   "metadata": {
    "colab": {
     "base_uri": "https://localhost:8080/"
    },
    "id": "SWvfz-9i_HZ6",
    "outputId": "6a4b1d2f-fef6-4732-94c3-46c4a06d0a3a"
   },
   "outputs": [
    {
     "data": {
      "text/plain": [
       "DecisionTreeClassifier(random_state=10)"
      ]
     },
     "execution_count": 15,
     "metadata": {},
     "output_type": "execute_result"
    }
   ],
   "source": [
    "#model training\n",
    "model_dt = DecisionTreeClassifier(criterion='gini', random_state=seed_num, max_depth = None) \n",
    "\n",
    "X = data[X_arr].values\n",
    "X_train, X_test, y_train, y_test = train_test_split(X, y, test_size=0.2, random_state=seed_num)\n",
    "X_train, X_val, y_train, y_val = train_test_split(X_train, y_train, test_size=0.2, random_state=seed_num)\n",
    "\n",
    "model_dt.fit(X_train, y_train)"
   ]
  },
  {
   "cell_type": "code",
   "execution_count": 16,
   "metadata": {
    "colab": {
     "base_uri": "https://localhost:8080/"
    },
    "id": "k82pgqI__3yQ",
    "outputId": "ee83dd6e-64e1-4a34-8d16-e8b8754b760d"
   },
   "outputs": [
    {
     "name": "stdout",
     "output_type": "stream",
     "text": [
      "Accuracy of Decision Tree Algorithm: \n",
      "0.7582938388625592\n",
      "---------------------------------------------------\n",
      "Confusion Matrix: \n",
      "[[119  28]\n",
      " [ 23  41]]\n",
      "---------------------------------------------------\n",
      "Classification Report: \n",
      "              precision    recall  f1-score   support\n",
      "\n",
      "         NRB       0.84      0.81      0.82       147\n",
      "          RB       0.59      0.64      0.62        64\n",
      "\n",
      "    accuracy                           0.76       211\n",
      "   macro avg       0.72      0.73      0.72       211\n",
      "weighted avg       0.76      0.76      0.76       211\n",
      "\n"
     ]
    }
   ],
   "source": [
    "# data analysis \n",
    "y_pred = model_dt.predict(X_test)\n",
    "print(\"Accuracy of Decision Tree Algorithm: \")\n",
    "print(accuracy_score(y_test, y_pred))\n",
    "print('---------------------------------------------------')\n",
    "print(\"Confusion Matrix: \")\n",
    "print(confusion_matrix(y_test, y_pred))\n",
    "print('---------------------------------------------------')\n",
    "print(\"Classification Report: \")\n",
    "print(classification_report(y_test,y_pred))"
   ]
  },
  {
   "cell_type": "code",
   "execution_count": 17,
   "metadata": {
    "id": "l20tQNuBABLe"
   },
   "outputs": [],
   "source": [
    "dt_models = []\n",
    "depths = np.arange(1,14)\n",
    "for d in depths:\n",
    "    model = DecisionTreeClassifier(criterion='gini', min_samples_split=15, max_depth=d, random_state=seed_num)\n",
    "    model.fit(X_train, y_train)\n",
    "    dt_models.append(model)"
   ]
  },
  {
   "cell_type": "code",
   "execution_count": 18,
   "metadata": {
    "colab": {
     "base_uri": "https://localhost:8080/"
    },
    "id": "fj3glFWfAEoX",
    "outputId": "11b56866-9b5f-4d39-a9e8-6caac0be1f15"
   },
   "outputs": [
    {
     "name": "stdout",
     "output_type": "stream",
     "text": [
      "Decision Tree classifier with max_depth=1 achieves a mean accuracy of 0.6804733727810651\n",
      "Decision Tree classifier with max_depth=2 achieves a mean accuracy of 0.7455621301775148\n",
      "Decision Tree classifier with max_depth=3 achieves a mean accuracy of 0.7455621301775148\n",
      "Decision Tree classifier with max_depth=4 achieves a mean accuracy of 0.7455621301775148\n",
      "Decision Tree classifier with max_depth=5 achieves a mean accuracy of 0.7751479289940828\n",
      "Decision Tree classifier with max_depth=6 achieves a mean accuracy of 0.757396449704142\n",
      "Decision Tree classifier with max_depth=7 achieves a mean accuracy of 0.7810650887573964\n",
      "Decision Tree classifier with max_depth=8 achieves a mean accuracy of 0.7869822485207101\n",
      "Decision Tree classifier with max_depth=9 achieves a mean accuracy of 0.757396449704142\n",
      "Decision Tree classifier with max_depth=10 achieves a mean accuracy of 0.7633136094674556\n",
      "Decision Tree classifier with max_depth=11 achieves a mean accuracy of 0.757396449704142\n",
      "Decision Tree classifier with max_depth=12 achieves a mean accuracy of 0.757396449704142\n",
      "Decision Tree classifier with max_depth=13 achieves a mean accuracy of 0.757396449704142\n"
     ]
    }
   ],
   "source": [
    "#display mean accuracy for each depth\n",
    "best_acc = 0\n",
    "model_best = None\n",
    "for m,d in zip(dt_models, depths):\n",
    "    acc = m.score(X_val, y_val)\n",
    "    print(f'Decision Tree classifier with max_depth={d} achieves a mean accuracy of {acc}')\n",
    "    if acc > best_acc:\n",
    "        best_acc = acc\n",
    "        model_best = m"
   ]
  },
  {
   "cell_type": "code",
   "execution_count": 19,
   "metadata": {
    "colab": {
     "base_uri": "https://localhost:8080/"
    },
    "id": "1Bqasvv0AOn4",
    "outputId": "c90ef52b-8147-4f4d-bee9-1ae5a01b70d5"
   },
   "outputs": [
    {
     "name": "stdout",
     "output_type": "stream",
     "text": [
      "|--- Mi <= 1.14\n",
      "|   |--- F03[C-O] <= 0.50\n",
      "|   |   |--- SdssC <= 1.59\n",
      "|   |   |   |--- Psi_i_1d <= 0.05\n",
      "|   |   |   |   |--- Psi_i_1d <= -0.02\n",
      "|   |   |   |   |   |--- J_Dz(e) <= 3.12\n",
      "|   |   |   |   |   |   |--- class: NRB\n",
      "|   |   |   |   |   |--- J_Dz(e) >  3.12\n",
      "|   |   |   |   |   |   |--- class: NRB\n",
      "|   |   |   |   |--- Psi_i_1d >  -0.02\n",
      "|   |   |   |   |   |--- J_Dz(e) <= 2.44\n",
      "|   |   |   |   |   |   |--- class: NRB\n",
      "|   |   |   |   |   |--- J_Dz(e) >  2.44\n",
      "|   |   |   |   |   |   |--- J_Dz(e) <= 2.47\n",
      "|   |   |   |   |   |   |   |--- class: RB\n",
      "|   |   |   |   |   |   |--- J_Dz(e) >  2.47\n",
      "|   |   |   |   |   |   |   |--- J_Dz(e) <= 3.02\n",
      "|   |   |   |   |   |   |   |   |--- class: NRB\n",
      "|   |   |   |   |   |   |   |--- J_Dz(e) >  3.02\n",
      "|   |   |   |   |   |   |   |   |--- class: NRB\n",
      "|   |   |   |--- Psi_i_1d >  0.05\n",
      "|   |   |   |   |--- class: NRB\n",
      "|   |   |--- SdssC >  1.59\n",
      "|   |   |   |--- class: RB\n",
      "|   |--- F03[C-O] >  0.50\n",
      "|   |   |--- Psi_i_1d <= 0.00\n",
      "|   |   |   |--- Psi_i_1d <= -0.02\n",
      "|   |   |   |   |--- J_Dz(e) <= 3.31\n",
      "|   |   |   |   |   |--- nHDon <= 1.50\n",
      "|   |   |   |   |   |   |--- class: RB\n",
      "|   |   |   |   |   |--- nHDon >  1.50\n",
      "|   |   |   |   |   |   |--- class: RB\n",
      "|   |   |   |   |--- J_Dz(e) >  3.31\n",
      "|   |   |   |   |   |--- class: NRB\n",
      "|   |   |   |--- Psi_i_1d >  -0.02\n",
      "|   |   |   |   |--- SdssC <= -0.74\n",
      "|   |   |   |   |   |--- nHDon <= 1.50\n",
      "|   |   |   |   |   |   |--- F03[C-O] <= 7.00\n",
      "|   |   |   |   |   |   |   |--- class: NRB\n",
      "|   |   |   |   |   |   |--- F03[C-O] >  7.00\n",
      "|   |   |   |   |   |   |   |--- J_Dz(e) <= 4.34\n",
      "|   |   |   |   |   |   |   |   |--- class: RB\n",
      "|   |   |   |   |   |   |   |--- J_Dz(e) >  4.34\n",
      "|   |   |   |   |   |   |   |   |--- class: NRB\n",
      "|   |   |   |   |   |--- nHDon >  1.50\n",
      "|   |   |   |   |   |   |--- class: NRB\n",
      "|   |   |   |   |--- SdssC >  -0.74\n",
      "|   |   |   |   |   |--- Psi_i_A <= 1.93\n",
      "|   |   |   |   |   |   |--- class: RB\n",
      "|   |   |   |   |   |--- Psi_i_A >  1.93\n",
      "|   |   |   |   |   |   |--- Me <= 1.01\n",
      "|   |   |   |   |   |   |   |--- nCp <= 1.50\n",
      "|   |   |   |   |   |   |   |   |--- class: NRB\n",
      "|   |   |   |   |   |   |   |--- nCp >  1.50\n",
      "|   |   |   |   |   |   |   |   |--- class: NRB\n",
      "|   |   |   |   |   |   |--- Me >  1.01\n",
      "|   |   |   |   |   |   |   |--- J_Dz(e) <= 3.35\n",
      "|   |   |   |   |   |   |   |   |--- class: NRB\n",
      "|   |   |   |   |   |   |   |--- J_Dz(e) >  3.35\n",
      "|   |   |   |   |   |   |   |   |--- class: NRB\n",
      "|   |   |--- Psi_i_1d >  0.00\n",
      "|   |   |   |--- SdO <= 5.01\n",
      "|   |   |   |   |--- Psi_i_A <= 2.17\n",
      "|   |   |   |   |   |--- class: RB\n",
      "|   |   |   |   |--- Psi_i_A >  2.17\n",
      "|   |   |   |   |   |--- Psi_i_1d <= 0.05\n",
      "|   |   |   |   |   |   |--- J_Dz(e) <= 3.01\n",
      "|   |   |   |   |   |   |   |--- class: RB\n",
      "|   |   |   |   |   |   |--- J_Dz(e) >  3.01\n",
      "|   |   |   |   |   |   |   |--- Psi_i_A <= 2.25\n",
      "|   |   |   |   |   |   |   |   |--- class: NRB\n",
      "|   |   |   |   |   |   |   |--- Psi_i_A >  2.25\n",
      "|   |   |   |   |   |   |   |   |--- class: NRB\n",
      "|   |   |   |   |   |--- Psi_i_1d >  0.05\n",
      "|   |   |   |   |   |   |--- class: RB\n",
      "|   |   |   |--- SdO >  5.01\n",
      "|   |   |   |   |--- SdO <= 20.03\n",
      "|   |   |   |   |   |--- Me <= 1.04\n",
      "|   |   |   |   |   |   |--- Mi <= 1.14\n",
      "|   |   |   |   |   |   |   |--- Psi_i_A <= 2.28\n",
      "|   |   |   |   |   |   |   |   |--- class: NRB\n",
      "|   |   |   |   |   |   |   |--- Psi_i_A >  2.28\n",
      "|   |   |   |   |   |   |   |   |--- class: RB\n",
      "|   |   |   |   |   |   |--- Mi >  1.14\n",
      "|   |   |   |   |   |   |   |--- class: NRB\n",
      "|   |   |   |   |   |--- Me >  1.04\n",
      "|   |   |   |   |   |   |--- class: NRB\n",
      "|   |   |   |   |--- SdO >  20.03\n",
      "|   |   |   |   |   |--- class: NRB\n",
      "|--- Mi >  1.14\n",
      "|   |--- SdssC <= -0.01\n",
      "|   |   |--- Mi <= 1.18\n",
      "|   |   |   |--- J_Dz(e) <= 2.98\n",
      "|   |   |   |   |--- class: NRB\n",
      "|   |   |   |--- J_Dz(e) >  2.98\n",
      "|   |   |   |   |--- F03[C-O] <= 11.00\n",
      "|   |   |   |   |   |--- SdssC <= -0.17\n",
      "|   |   |   |   |   |   |--- J_Dz(e) <= 4.20\n",
      "|   |   |   |   |   |   |   |--- F03[C-O] <= 8.50\n",
      "|   |   |   |   |   |   |   |   |--- class: RB\n",
      "|   |   |   |   |   |   |   |--- F03[C-O] >  8.50\n",
      "|   |   |   |   |   |   |   |   |--- class: RB\n",
      "|   |   |   |   |   |   |--- J_Dz(e) >  4.20\n",
      "|   |   |   |   |   |   |   |--- class: RB\n",
      "|   |   |   |   |   |--- SdssC >  -0.17\n",
      "|   |   |   |   |   |   |--- class: RB\n",
      "|   |   |   |   |--- F03[C-O] >  11.00\n",
      "|   |   |   |   |   |--- class: NRB\n",
      "|   |   |--- Mi >  1.18\n",
      "|   |   |   |--- class: NRB\n",
      "|   |--- SdssC >  -0.01\n",
      "|   |   |--- J_Dz(e) <= 2.96\n",
      "|   |   |   |--- nHDon <= 3.50\n",
      "|   |   |   |   |--- SdssC <= 0.07\n",
      "|   |   |   |   |   |--- Me <= 0.98\n",
      "|   |   |   |   |   |   |--- Psi_i_A <= 1.55\n",
      "|   |   |   |   |   |   |   |--- class: NRB\n",
      "|   |   |   |   |   |   |--- Psi_i_A >  1.55\n",
      "|   |   |   |   |   |   |   |--- class: RB\n",
      "|   |   |   |   |   |--- Me >  0.98\n",
      "|   |   |   |   |   |   |--- Psi_i_A <= 2.32\n",
      "|   |   |   |   |   |   |   |--- class: NRB\n",
      "|   |   |   |   |   |   |--- Psi_i_A >  2.32\n",
      "|   |   |   |   |   |   |   |--- Mi <= 1.15\n",
      "|   |   |   |   |   |   |   |   |--- class: NRB\n",
      "|   |   |   |   |   |   |   |--- Mi >  1.15\n",
      "|   |   |   |   |   |   |   |   |--- class: RB\n",
      "|   |   |   |   |--- SdssC >  0.07\n",
      "|   |   |   |   |   |--- class: NRB\n",
      "|   |   |   |--- nHDon >  3.50\n",
      "|   |   |   |   |--- class: NRB\n",
      "|   |   |--- J_Dz(e) >  2.96\n",
      "|   |   |   |--- Mi <= 1.14\n",
      "|   |   |   |   |--- class: RB\n",
      "|   |   |   |--- Mi >  1.14\n",
      "|   |   |   |   |--- J_Dz(e) <= 3.23\n",
      "|   |   |   |   |   |--- F03[C-O] <= 0.50\n",
      "|   |   |   |   |   |   |--- class: NRB\n",
      "|   |   |   |   |   |--- F03[C-O] >  0.50\n",
      "|   |   |   |   |   |   |--- class: RB\n",
      "|   |   |   |   |--- J_Dz(e) >  3.23\n",
      "|   |   |   |   |   |--- Psi_i_A <= 1.67\n",
      "|   |   |   |   |   |   |--- class: RB\n",
      "|   |   |   |   |   |--- Psi_i_A >  1.67\n",
      "|   |   |   |   |   |   |--- Psi_i_1d <= 0.43\n",
      "|   |   |   |   |   |   |   |--- nHDon <= 4.50\n",
      "|   |   |   |   |   |   |   |   |--- class: NRB\n",
      "|   |   |   |   |   |   |   |--- nHDon >  4.50\n",
      "|   |   |   |   |   |   |   |   |--- class: NRB\n",
      "|   |   |   |   |   |   |--- Psi_i_1d >  0.43\n",
      "|   |   |   |   |   |   |   |--- class: RB\n",
      "\n"
     ]
    }
   ],
   "source": [
    "#display result\n",
    "from sklearn.tree import plot_tree, export_text  \n",
    "print(export_text(model_best, feature_names=list(X_arr)))"
   ]
  },
  {
   "cell_type": "code",
   "execution_count": 20,
   "metadata": {
    "colab": {
     "base_uri": "https://localhost:8080/",
     "height": 833
    },
    "id": "j9sW7u8TAchK",
    "outputId": "8b3abfc7-f2f3-4d2c-9480-8bea89a7c41e"
   },
   "outputs": [
    {
     "data": {
      "image/png": "[encoded data removed]",
      "text/plain": [
       "<Figure size 1080x1080 with 1 Axes>"
      ]
     },
     "metadata": {
      "needs_background": "light"
     },
     "output_type": "display_data"
    }
   ],
   "source": [
    "#displat visual tree\n",
    "from matplotlib import pyplot as plt\n",
    "plt.figure(figsize=(15,15)) # increase the value if the size of the image is too small\n",
    "plot_tree(model_best, feature_names=list(X_arr))\n",
    "plt.show()"
   ]
  },
  {
   "cell_type": "code",
   "execution_count": 21,
   "metadata": {
    "colab": {
     "base_uri": "https://localhost:8080/"
    },
    "id": "oWTaREfyAopt",
    "outputId": "c7de0bfd-e0d8-4f29-96fa-60180120ae1f"
   },
   "outputs": [
    {
     "data": {
      "text/plain": [
       "DecisionTreeClassifier(max_depth=13, min_samples_split=10, random_state=10)"
      ]
     },
     "execution_count": 21,
     "metadata": {},
     "output_type": "execute_result"
    }
   ],
   "source": [
    "#set dataset size into two features\n",
    "X2_train = X_train[0:,:2]\n",
    "index = np.where(y_train=='RB')[0]\n",
    "X2_train_normal = X2_train[index]\n",
    "y2_train_normal = y_train[index]\n",
    "index = np.where(y_train=='NRB')[0]\n",
    "X2_train_abnormal = X2_train[index]\n",
    "y2_train_abnormal = y_train[index]\n",
    "model_dt = DecisionTreeClassifier(criterion='gini', min_samples_split=10, max_depth=d, random_state=seed_num)\n",
    "model_dt.fit(X2_train, y_train)"
   ]
  },
  {
   "cell_type": "code",
   "execution_count": 22,
   "metadata": {
    "colab": {
     "base_uri": "https://localhost:8080/",
     "height": 500
    },
    "id": "y5sin6JXAx6z",
    "outputId": "01164be1-208c-4d55-f315-287cac01645c"
   },
   "outputs": [
    {
     "data": {
      "text/plain": [
       "<matplotlib.legend.Legend at 0x131a5977e80>"
      ]
     },
     "execution_count": 22,
     "metadata": {},
     "output_type": "execute_result"
    },
    {
     "data": {
      "image/png": "[encoded data removed]",
      "text/plain": [
       "<Figure size 576x576 with 1 Axes>"
      ]
     },
     "metadata": {
      "needs_background": "light"
     },
     "output_type": "display_data"
    }
   ],
   "source": [
    "#plot graph for visual representation\n",
    "from matplotlib.colors import ListedColormap\n",
    "cmap_regions = ListedColormap(['pink', 'lightsteelblue'])\n",
    "step = 0.02\n",
    "offset = 0.1\n",
    "xx1_min, xx1_max = X_train[:,0].min()-offset, X_train[:,0].max()+offset\n",
    "xx2_min, xx2_max = X_train[:,1].min()-offset, X_train[:,1].max()+offset\n",
    "xx1,xx2 = np.meshgrid(np.arange(xx1_min, xx1_max, step), np.arange(xx2_min, xx2_max, step))\n",
    "zz = model_dt.predict(np.c_[xx1.ravel(), xx2.ravel()])\n",
    "zz = y_to_numeric(zz)\n",
    "zz = zz.reshape(xx1.shape)\n",
    "fig = plt.figure(figsize=(8,8))\n",
    "ax = fig.add_subplot()\n",
    "ax.scatter(X2_train_normal[:,0], X2_train_normal[:,1], c='blue', label='RB')\n",
    "ax.scatter(X2_train_abnormal[:,0], X2_train_abnormal[:,1], c='red', label='NRB')\n",
    "ax.contourf(xx1, xx2, zz, cmap=cmap_regions, alpha=0.5)\n",
    "plt.legend()"
   ]
  },
  {
   "cell_type": "code",
   "execution_count": null,
   "metadata": {},
   "outputs": [],
   "source": []
  }
 ],
 "metadata": {
  "colab": {
   "collapsed_sections": [],
   "name": "ModelTraining.ipynb",
   "provenance": []
  },
  "kernelspec": {
   "display_name": "Python 3 (ipykernel)",
   "language": "python",
   "name": "python3"
  },
  "language_info": {
   "codemirror_mode": {
    "name": "ipython",
    "version": 3
   },
   "file_extension": ".py",
   "mimetype": "text/x-python",
   "name": "python",
   "nbconvert_exporter": "python",
   "pygments_lexer": "ipython3",
   "version": "3.9.7"
  }
 },
 "nbformat": 4,
 "nbformat_minor": 1
}
